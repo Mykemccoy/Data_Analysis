{
 "cells": [
  {
   "cell_type": "code",
   "execution_count": 1,
   "id": "abc1e76c",
   "metadata": {
    "_cell_guid": "b1076dfc-b9ad-4769-8c92-a6c4dae69d19",
    "_uuid": "8f2839f25d086af736a60e9eeb907d3b93b6e0e5",
    "execution": {
     "iopub.execute_input": "2023-08-12T23:10:52.587188Z",
     "iopub.status.busy": "2023-08-12T23:10:52.586262Z",
     "iopub.status.idle": "2023-08-12T23:10:52.625290Z",
     "shell.execute_reply": "2023-08-12T23:10:52.624197Z"
    },
    "papermill": {
     "duration": 0.046156,
     "end_time": "2023-08-12T23:10:52.628010",
     "exception": false,
     "start_time": "2023-08-12T23:10:52.581854",
     "status": "completed"
    },
    "tags": []
   },
   "outputs": [
    {
     "name": "stdout",
     "output_type": "stream",
     "text": [
      "/kaggle/input/chennai-water-management/chennai_reservoir_levels.csv\n",
      "/kaggle/input/chennai-water-management/chennai_reservoir_rainfall.csv\n",
      "/kaggle/input/istanbul-water-sewage-dataset-pt-1/amount of mechanical sweeping by district.csv\n",
      "/kaggle/input/istanbul-water-sewage-dataset-pt-1/Faults fixed by District.csv\n",
      "/kaggle/input/istanbul-water-sewage-dataset-pt-1/Faults by district and neighborhood.csv\n",
      "/kaggle/input/istanbul-water-sewage-dataset-pt-1/domestic waste by district.csv\n",
      "/kaggle/input/istanbul-water-sewage-dataset-pt-1/medical waste by district.csv\n",
      "/kaggle/input/water-potability/water_potability.csv\n",
      "/kaggle/input/melbourne-water-19952019/Melbourne_Wastewater_-_Daily_Volume_Received_by_Melbourne_Water.csv\n",
      "/kaggle/input/districtwise-ground-water-resources-by-july-2017/Dynamic_2017_2_0.csv\n"
     ]
    }
   ],
   "source": [
    "# This Python 3 environment comes with many helpful analytics libraries installed\n",
    "# It is defined by the kaggle/python Docker image: https://github.com/kaggle/docker-python\n",
    "# For example, here's several helpful packages to load\n",
    "\n",
    "import numpy as np # linear algebra\n",
    "import pandas as pd # data processing, CSV file I/O (e.g. pd.read_csv)\n",
    "\n",
    "# Input data files are available in the read-only \"../input/\" directory\n",
    "# For example, running this (by clicking run or pressing Shift+Enter) will list all files under the input directory\n",
    "\n",
    "import os\n",
    "for dirname, _, filenames in os.walk('/kaggle/input'):\n",
    "    for filename in filenames:\n",
    "        print(os.path.join(dirname, filename))\n",
    "\n",
    "# You can write up to 20GB to the current directory (/kaggle/working/) that gets preserved as output when you create a version using \"Save & Run All\" \n",
    "# You can also write temporary files to /kaggle/temp/, but they won't be saved outside of the current session"
   ]
  },
  {
   "cell_type": "code",
   "execution_count": 2,
   "id": "0780b33a",
   "metadata": {
    "execution": {
     "iopub.execute_input": "2023-08-12T23:10:52.634733Z",
     "iopub.status.busy": "2023-08-12T23:10:52.634021Z",
     "iopub.status.idle": "2023-08-12T23:10:52.681417Z",
     "shell.execute_reply": "2023-08-12T23:10:52.680271Z"
    },
    "papermill": {
     "duration": 0.053639,
     "end_time": "2023-08-12T23:10:52.684063",
     "exception": false,
     "start_time": "2023-08-12T23:10:52.630424",
     "status": "completed"
    },
    "tags": []
   },
   "outputs": [
    {
     "name": "stderr",
     "output_type": "stream",
     "text": [
      "/tmp/ipykernel_20/3921223271.py:22: SettingWithCopyWarning: \n",
      "A value is trying to be set on a copy of a slice from a DataFrame.\n",
      "Try using .loc[row_indexer,col_indexer] = value instead\n",
      "\n",
      "See the caveats in the documentation: https://pandas.pydata.org/pandas-docs/stable/user_guide/indexing.html#returning-a-view-versus-a-copy\n",
      "  new_selected_columns ['S.no.'] = range(1, len(new_selected_columns) + 1)\n"
     ]
    }
   ],
   "source": [
    "import numpy as np\n",
    "import pandas as pd\n",
    "import os\n",
    "\n",
    "groundwater = pd.read_csv(\"/kaggle/input/districtwise-ground-water-resources-by-july-2017/Dynamic_2017_2_0.csv\")\n",
    "\n",
    "#To delete entire rows of data with missing values\n",
    "new_groundwater = groundwater.dropna()\n",
    "\n",
    "#Print columns 1,2,3, 8 till the last column\n",
    "new_groundwater = [0,1,2,3,8,-5,-4,-3,-2,-1] \n",
    "selected_columns = groundwater.iloc[:, new_groundwater]\n",
    "\n",
    "#Drop entire rows of data with missing values\n",
    "new_selected_columns = selected_columns.dropna()\n",
    "new_selected_columns.head(20)\n",
    "\n",
    "#To rearrange the serial numbers back in order\n",
    "new_selected_columns.reset_index(drop=True, inplace=True)\n",
    "\n",
    "# Rearrange the 'SerialNumber' column based on the new order of rows\n",
    "new_selected_columns ['S.no.'] = range(1, len(new_selected_columns) + 1)\n"
   ]
  }
 ],
 "metadata": {
  "kernelspec": {
   "display_name": "Python 3",
   "language": "python",
   "name": "python3"
  },
  "language_info": {
   "codemirror_mode": {
    "name": "ipython",
    "version": 3
   },
   "file_extension": ".py",
   "mimetype": "text/x-python",
   "name": "python",
   "nbconvert_exporter": "python",
   "pygments_lexer": "ipython3",
   "version": "3.10.12"
  },
  "papermill": {
   "default_parameters": {},
   "duration": 13.318621,
   "end_time": "2023-08-12T23:10:53.608057",
   "environment_variables": {},
   "exception": null,
   "input_path": "__notebook__.ipynb",
   "output_path": "__notebook__.ipynb",
   "parameters": {},
   "start_time": "2023-08-12T23:10:40.289436",
   "version": "2.4.0"
  }
 },
 "nbformat": 4,
 "nbformat_minor": 5
}
